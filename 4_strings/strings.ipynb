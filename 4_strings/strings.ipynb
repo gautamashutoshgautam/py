{
 "cells": [
  {
   "cell_type": "markdown",
   "metadata": {},
   "source": [
    "**1. Create 3 variables to store street, city and country, now create address variable to\n",
    "store entire address. Use two ways of creating this variable, one using + operator and the other using f-string.\n",
    "Now Print the address in such a way that the street, city and country prints in a separate line.**\n"
   ]
  },
  {
   "cell_type": "code",
   "execution_count": 74,
   "metadata": {},
   "outputs": [
    {
     "name": "stdout",
     "output_type": "stream",
     "text": [
      "My address is\n",
      " 2330 San Jose Street\n",
      "Houston\n",
      "USA\n",
      "My address is \n",
      "2330 San Jose Street\n",
      "Houston\n",
      "USA\n"
     ]
    }
   ],
   "source": [
    "street=\"2330 San Jose Street\"\n",
    "city=\"Houston\"\n",
    "country=\"USA\"\n",
    "address=street+'\\n'+city+'\\n'+country\n",
    "print(\"My address is\\n\",address)\n",
    "address=f'\\n{street}\\n{city}\\n{country}'\n",
    "print(\"My address is\",address)"
   ]
  },
  {
   "cell_type": "markdown",
   "metadata": {},
   "source": [
    "**2. Create a variable to store the string \"Earth revolves around the sun\"\n",
    "    1. Print \"revolves\" using slice operator\n",
    "    2. Print \"sun\" using negative index**"
   ]
  },
  {
   "cell_type": "code",
   "execution_count": 122,
   "metadata": {},
   "outputs": [
    {
     "name": "stdout",
     "output_type": "stream",
     "text": [
      "revolves \n",
      "sun\n"
     ]
    }
   ],
   "source": [
    "list='Earth revolves around the sun'\n",
    "print(list[6:15])\n",
    "print(list[-3:])"
   ]
  },
  {
   "cell_type": "markdown",
   "metadata": {},
   "source": [
    "**3. Create two variables to store how many fruits and vegetables you eat in a day.\n",
    "Now Print \"I eat x veggies and y fruits daily\" where x and y presents vegetables and fruits that you eat everyday. Use python f string for this.**\n"
   ]
  },
  {
   "cell_type": "code",
   "execution_count": 123,
   "metadata": {},
   "outputs": [
    {
     "name": "stdout",
     "output_type": "stream",
     "text": [
      "I eat 2 fruits and 3 vegetables daily\n"
     ]
    }
   ],
   "source": [
    "fruits=2\n",
    "vegetables=3\n",
    "print(f\"I eat {fruits} fruits and {vegetables} vegetables daily\")"
   ]
  },
  {
   "cell_type": "markdown",
   "metadata": {},
   "source": [
    "**4. I have a string variable called s='I ate 200 banana'. This of course is a\n",
    "wrong statement, the correct statement is 'I ate 10 samosa'.\n",
    "Replace incorrect words in original strong with new ones and print the new string.\n",
    "Also try to do this in one line.**"
   ]
  },
  {
   "cell_type": "code",
   "execution_count": 133,
   "metadata": {},
   "outputs": [
    {
     "name": "stdout",
     "output_type": "stream",
     "text": [
      "Using single line: I ate 10 samosa\n",
      "Using double line: I ate 10 samosa\n"
     ]
    }
   ],
   "source": [
    "s='I ate 200 banana'\n",
    "s=s.replace(\"200\",\"10\").replace(\"banana\",\"samosa\")\n",
    "print(\"Using single line:\",s)\n",
    "s=s.replace(\"200\",\"10\")\n",
    "s=s.replace(\"banana\",\"samosa\")\n",
    "print(\"Using double line:\",s)\n"
   ]
  }
 ],
 "metadata": {
  "kernelspec": {
   "display_name": "Python 3",
   "language": "python",
   "name": "python3"
  },
  "language_info": {
   "codemirror_mode": {
    "name": "ipython",
    "version": 3
   },
   "file_extension": ".py",
   "mimetype": "text/x-python",
   "name": "python",
   "nbconvert_exporter": "python",
   "pygments_lexer": "ipython3",
   "version": "3.12.2"
  }
 },
 "nbformat": 4,
 "nbformat_minor": 2
}
