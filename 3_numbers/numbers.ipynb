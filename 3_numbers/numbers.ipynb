{
 "cells": [
  {
   "cell_type": "markdown",
   "metadata": {},
   "source": [
    "** 1. You have a football field that is 92 meter long and 48.8 meter wide. Find out total\n",
    "area using python and print it.\n"
   ]
  },
  {
   "cell_type": "code",
   "execution_count": 1,
   "metadata": {},
   "outputs": [
    {
     "name": "stdout",
     "output_type": "stream",
     "text": [
      "4489.599999999999\n"
     ]
    }
   ],
   "source": [
    "length=92\n",
    "width=48.8\n",
    "area=length*width\n",
    "print(area)"
   ]
  },
  {
   "cell_type": "markdown",
   "metadata": {},
   "source": [
    "**2. You bought 9 packets of potato chips from a store. Each packet costs 1.49 dollar\n",
    "and you gave shopkeeper 20 dollar. Find out using python, how many dollars is the shopkeeper going to give you back?**\n"
   ]
  },
  {
   "cell_type": "code",
   "execution_count": 3,
   "metadata": {},
   "outputs": [
    {
     "name": "stdout",
     "output_type": "stream",
     "text": [
      "6.59\n"
     ]
    }
   ],
   "source": [
    "no_chips=9\n",
    "cost_chips=1.49\n",
    "money_given=20\n",
    "change_received=money_given-(cost_chips*no_chips)\n",
    "print(change_received)"
   ]
  },
  {
   "cell_type": "markdown",
   "metadata": {},
   "source": [
    "**3. You want to replace tiles in your bathroom which is exactly square and 5.5 feet\n",
    "is its length. If tiles cost 5 dollars per square feet, how much will be the total\n",
    "cost to replace all tiles. Calculate and print the cost using python\n",
    "(Hint: Use power operator ** to find area of a square)**"
   ]
  },
  {
   "cell_type": "code",
   "execution_count": 8,
   "metadata": {},
   "outputs": [
    {
     "name": "stdout",
     "output_type": "stream",
     "text": [
      "151.25\n"
     ]
    }
   ],
   "source": [
    "length=5.5\n",
    "cost=5\n",
    "area=length**2\n",
    "cost=area*cost\n",
    "print(cost)"
   ]
  },
  {
   "cell_type": "markdown",
   "metadata": {},
   "source": [
    "**4. Print binary representation of number 17**"
   ]
  },
  {
   "cell_type": "code",
   "execution_count": 9,
   "metadata": {},
   "outputs": [
    {
     "name": "stdout",
     "output_type": "stream",
     "text": [
      "0b10001\n"
     ]
    }
   ],
   "source": [
    "number=17\n",
    "print(format(17,'b'))"
   ]
  }
 ],
 "metadata": {
  "kernelspec": {
   "display_name": "Python 3",
   "language": "python",
   "name": "python3"
  },
  "language_info": {
   "codemirror_mode": {
    "name": "ipython",
    "version": 3
   },
   "file_extension": ".py",
   "mimetype": "text/x-python",
   "name": "python",
   "nbconvert_exporter": "python",
   "pygments_lexer": "ipython3",
   "version": "3.12.2"
  }
 },
 "nbformat": 4,
 "nbformat_minor": 2
}
